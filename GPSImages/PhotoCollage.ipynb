{
 "cells": [
  {
   "cell_type": "code",
   "execution_count": 1,
   "id": "60d03475",
   "metadata": {},
   "outputs": [
    {
     "name": "stdout",
     "output_type": "stream",
     "text": [
      "Saved: photo_matrix_page_1.jpg\n",
      "Saved: photo_matrix_page_2.jpg\n",
      "Saved: photo_matrix_page_3.jpg\n",
      "Saved: photo_matrix_page_4.jpg\n",
      "Saved: photo_matrix_page_5.jpg\n",
      "Saved: photo_matrix_page_6.jpg\n",
      "Saved: photo_matrix_page_7.jpg\n",
      "Saved: photo_matrix_page_8.jpg\n",
      "Saved: photo_matrix_page_9.jpg\n",
      "Saved: photo_matrix_page_10.jpg\n",
      "Saved: photo_matrix_page_11.jpg\n"
     ]
    }
   ],
   "source": [
    "from PIL import Image, ImageDraw, ImageFont\n",
    "import os\n",
    "import math\n",
    "\n",
    "# Configuration\n",
    "cols, rows = 5, 6\n",
    "thumb_width, thumb_height = 448, 576\n",
    "label_height = 35\n",
    "padding = 10\n",
    "\n",
    "font = ImageFont.load_default()  # Safe, built-in\n",
    "\n",
    "# List and sort image files\n",
    "image_files = sorted([\n",
    "    f for f in os.listdir('.') if f.lower().endswith(('.jpg', '.jpeg', '.png'))\n",
    "])\n",
    "\n",
    "# Pagination\n",
    "images_per_page = cols * rows\n",
    "total_pages = math.ceil(len(image_files) / images_per_page)\n",
    "\n",
    "for page in range(total_pages):\n",
    "    page_width = cols * (thumb_width + padding) + padding\n",
    "    page_height = rows * (thumb_height + label_height + padding) + padding\n",
    "    page_image = Image.new('RGB', (page_width, page_height), 'white')\n",
    "    \n",
    "    for i in range(images_per_page):\n",
    "        idx = page * images_per_page + i\n",
    "        if idx >= len(image_files):\n",
    "            break\n",
    "        img_name = image_files[idx]\n",
    "        img = Image.open(img_name)\n",
    "\n",
    "        # Rotate if landscape\n",
    "        if img.width > img.height:\n",
    "            img = img.rotate(90, expand=True)\n",
    "\n",
    "        # Resize while maintaining aspect ratio\n",
    "        img.thumbnail((thumb_width, thumb_height), Image.LANCZOS)\n",
    "        bg = Image.new(\"RGB\", (thumb_width, thumb_height), \"white\")\n",
    "        offset = ((thumb_width - img.width) // 2, (thumb_height - img.height) // 2)\n",
    "        bg.paste(img, offset)\n",
    "\n",
    "        # Add label area\n",
    "        img_with_label = Image.new('RGB', (thumb_width, thumb_height + label_height), 'white')\n",
    "        img_with_label.paste(bg, (0, 0))\n",
    "        draw = ImageDraw.Draw(img_with_label)\n",
    "\n",
    "        # Text position and simulated bold\n",
    "        text = img_name\n",
    "        text_bbox = draw.textbbox((0, 0), text, font=font)\n",
    "        text_width = text_bbox[2] - text_bbox[0]\n",
    "        text_height = text_bbox[3] - text_bbox[1]\n",
    "        text_x = (thumb_width - text_width) // 2\n",
    "        text_y = thumb_height + (label_height - text_height) // 2\n",
    "\n",
    "        # Simulate bold by drawing multiple times\n",
    "        for dx in [-1, 0, 1]:\n",
    "            for dy in [-1, 0, 1]:\n",
    "                draw.text((text_x + dx, text_y + dy), text, font=font, fill=\"black\")\n",
    "\n",
    "        # Paste to final image\n",
    "        x = (i % cols) * (thumb_width + padding) + padding\n",
    "        y = (i // cols) * (thumb_height + label_height + padding) + padding\n",
    "        page_image.paste(img_with_label, (x, y))\n",
    "\n",
    "    page_image.save(f\"photo_matrix_page_{page+1}.jpg\")\n",
    "    print(f\"Saved: photo_matrix_page_{page+1}.jpg\")\n"
   ]
  },
  {
   "cell_type": "code",
   "execution_count": null,
   "id": "809abd69",
   "metadata": {},
   "outputs": [],
   "source": []
  }
 ],
 "metadata": {
  "kernelspec": {
   "display_name": "Python 3 (ipykernel)",
   "language": "python",
   "name": "python3"
  },
  "language_info": {
   "codemirror_mode": {
    "name": "ipython",
    "version": 3
   },
   "file_extension": ".py",
   "mimetype": "text/x-python",
   "name": "python",
   "nbconvert_exporter": "python",
   "pygments_lexer": "ipython3",
   "version": "3.12.1"
  }
 },
 "nbformat": 4,
 "nbformat_minor": 5
}
