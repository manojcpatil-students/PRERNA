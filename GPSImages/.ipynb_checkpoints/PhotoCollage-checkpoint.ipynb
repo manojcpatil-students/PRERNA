{
 "cells": [
  {
   "cell_type": "code",
   "execution_count": 8,
   "id": "60d03475",
   "metadata": {},
   "outputs": [
    {
     "name": "stdout",
     "output_type": "stream",
     "text": [
      "Saved: photo_matrix_page_1.jpg\n",
      "Saved: photo_matrix_page_2.jpg\n",
      "Saved: photo_matrix_page_3.jpg\n",
      "Saved: photo_matrix_page_4.jpg\n",
      "Saved: photo_matrix_page_5.jpg\n",
      "Saved: photo_matrix_page_6.jpg\n",
      "Saved: photo_matrix_page_7.jpg\n",
      "Saved: photo_matrix_page_8.jpg\n",
      "Saved: photo_matrix_page_9.jpg\n",
      "Saved: photo_matrix_page_10.jpg\n",
      "Saved: photo_matrix_page_11.jpg\n"
     ]
    }
   ],
   "source": [
    "from PIL import Image, ImageDraw, ImageFont\n",
    "import os\n",
    "import math\n",
    "\n",
    "# Configuration\n",
    "cols, rows = 5, 6\n",
    "thumb_width, thumb_height = 448, 576\n",
    "\n",
    "padding = 10\n",
    "font = ImageFont.load_default()\n",
    "\n",
    "# List and sort image files\n",
    "image_files = sorted([\n",
    "    f for f in os.listdir('.') if f.lower().endswith(('.jpg', '.jpeg', '.png'))\n",
    "])\n",
    "\n",
    "# Pagination\n",
    "images_per_page = cols * rows\n",
    "total_pages = math.ceil(len(image_files) / images_per_page)\n",
    "\n",
    "for page in range(total_pages):\n",
    "    page_width = cols * (thumb_width + padding) + padding\n",
    "    page_height = rows * (thumb_height + 30 + padding) + padding  # 30 for name\n",
    "    page_image = Image.new('RGB', (page_width, page_height), 'white')\n",
    "    \n",
    "    for i in range(images_per_page):\n",
    "        idx = page * images_per_page + i\n",
    "        if idx >= len(image_files):\n",
    "            break\n",
    "        img_name = image_files[idx]\n",
    "        img = Image.open(img_name)\n",
    "        \n",
    "        # 🔄 Rotate if landscape\n",
    "        if img.width > img.height:\n",
    "            img = img.rotate(90, expand=True)\n",
    "        \n",
    "        # Resize while keeping aspect ratio\n",
    "        img.thumbnail((thumb_width, thumb_height), Image.LANCZOS)\n",
    "        \n",
    "        # Create white background and center image\n",
    "        bg = Image.new(\"RGB\", (thumb_width, thumb_height), (255, 255, 255))\n",
    "        offset = ((thumb_width - img.width) // 2, (thumb_height - img.height) // 2)\n",
    "        bg.paste(img, offset)\n",
    "\n",
    "        # Add label (filename)\n",
    "        img_with_label = Image.new('RGB', (thumb_width, thumb_height + 30), 'white')\n",
    "        img_with_label.paste(bg, (0, 0))\n",
    "        draw = ImageDraw.Draw(img_with_label)\n",
    "        draw.text((5, thumb_height + 5), img_name, fill=\"black\", font=font)\n",
    "\n",
    "        # Calculate position on page\n",
    "        x = (i % cols) * (thumb_width + padding) + padding\n",
    "        y = (i // cols) * (thumb_height + 30 + padding) + padding\n",
    "        page_image.paste(img_with_label, (x, y))\n",
    "\n",
    "    page_image.save(f\"photo_matrix_page_{page+1}.jpg\")\n",
    "    print(f\"Saved: photo_matrix_page_{page+1}.jpg\")\n"
   ]
  },
  {
   "cell_type": "code",
   "execution_count": null,
   "id": "809abd69",
   "metadata": {},
   "outputs": [],
   "source": []
  }
 ],
 "metadata": {
  "kernelspec": {
   "display_name": "Python 3 (ipykernel)",
   "language": "python",
   "name": "python3"
  },
  "language_info": {
   "codemirror_mode": {
    "name": "ipython",
    "version": 3
   },
   "file_extension": ".py",
   "mimetype": "text/x-python",
   "name": "python",
   "nbconvert_exporter": "python",
   "pygments_lexer": "ipython3",
   "version": "3.12.1"
  }
 },
 "nbformat": 4,
 "nbformat_minor": 5
}
