{
 "cells": [
  {
   "cell_type": "code",
   "execution_count": 12,
   "id": "3d6ad0a7-1917-43c0-869d-74bcafa6b188",
   "metadata": {},
   "outputs": [
    {
     "name": "stdout",
     "output_type": "stream",
     "text": [
      "LaTeX output saved to survey_analysis_output.tex\n"
     ]
    }
   ],
   "source": [
    "import pandas as pd\n",
    "import matplotlib.pyplot as plt\n",
    "import seaborn as sns\n",
    "\n",
    "# Load data from Excel file\n",
    "file_path = \"SurveyData.xlsx\"  # Update with actual path\n",
    "xls = pd.ExcelFile(file_path)  # Load the Excel file\n",
    "first_sheet_name = xls.sheet_names[0]  # Get the first sheet name\n",
    "survey_main = pd.read_excel(xls, sheet_name=first_sheet_name)  # Load first sheet\n",
    "\n",
    "# Cleaning column names\n",
    "def clean_column_names(df):\n",
    "    df.columns = df.columns.str.lower().str.replace(\" \", \"_\")\n",
    "    return df\n",
    "\n",
    "# Clean column names\n",
    "survey_main = clean_column_names(survey_main)\n",
    "\n",
    "# Open LaTeX output file\n",
    "latex_file = \"survey_analysis_output.tex\"\n",
    "with open(latex_file, \"w\", encoding=\"utf-8\") as f:\n",
    "    # LaTeX Preamble\n",
    "    f.write(\"\\\\documentclass{article}\\n\")\n",
    "    f.write(\"\\\\usepackage{booktabs}\\n\")\n",
    "    f.write(\"\\\\usepackage{longtable}\\n\")\n",
    "    f.write(\"\\\\usepackage{caption}\\n\")\n",
    "    f.write(\"\\\\begin{document}\\n\")\n",
    "    f.write(\"\\\\title{Survey Data Analysis}\\n\")\n",
    "    f.write(\"\\\\author{Automated Report}\\n\")\n",
    "    f.write(\"\\\\date{\\\\today}\\n\")\n",
    "    f.write(\"\\\\maketitle\\n\")\n",
    "    \n",
    "    # Basic Summary Statistics in LaTeX Format\n",
    "    f.write(\"\\n\\\\section{Summary Statistics}\\n\")\n",
    "    sum_stats = survey_main.describe()\n",
    "    f.write(sum_stats.to_latex(escape=True, index=True, caption=\"Summary Statistics for Numerical Variables\", label=\"tab:summary_statistics\"))\n",
    "    \n",
    "    # Frequency Tables for Categorical Variables\n",
    "    categorical_vars = [\"gender\", \"marital_status\", \"education\", \"religion\", \"caste\", \n",
    "                        \"income_sources\", \"bpl_status\", \"ration_card\", \"loan_status\"]\n",
    "    \n",
    "    for var in categorical_vars:\n",
    "        f.write(f\"\\n\\\\section{{Frequency Table for {var}}}\\n\")\n",
    "        freq_table = survey_main[var].value_counts(dropna=False).reset_index()\n",
    "        freq_table.columns = [var, \"Count\"]\n",
    "        f.write(freq_table.to_latex(index=False, escape=True, caption=f\"Frequency Table for {var}\", label=f\"tab:{var}_freq\"))\n",
    "    \n",
    "    # Generate Pivot Tables for All Pairs of Categorical Variables in LaTeX Format\n",
    "    from itertools import combinations\n",
    "    \n",
    "    combos = list(combinations(categorical_vars, 2))\n",
    "    for var1, var2 in combos:\n",
    "        f.write(f\"\\n\\\\section{{Pivot Table for {var1} vs {var2}}}\\n\")\n",
    "        pivot_table = pd.crosstab(survey_main[var1], survey_main[var2])\n",
    "        f.write(pivot_table.to_latex(index=True, escape=True, caption=f\"Pivot Table for {var1} vs {var2}\", label=f\"tab:{var1}_{var2}\"))\n",
    "    \n",
    "    # End Document\n",
    "    f.write(\"\\\\end{document}\\n\")\n",
    "\n",
    "print(f\"LaTeX output saved to {latex_file}\")"
   ]
  },
  {
   "cell_type": "code",
   "execution_count": null,
   "id": "e90ae204-ebdf-4992-b41c-9ee16e7b2ee5",
   "metadata": {},
   "outputs": [],
   "source": [
    "# Frequency Tables for Categorical Variables\n",
    "categorical_vars = [\"gender\", \"marital_status\", \"education\", \"religion\", \"caste\", \n",
    "                    \"income_sources\", \"bpl_status\", \"ration_card\", \"loan_status\"]\n",
    "\n",
    "for var in categorical_vars:\n",
    "    print(f\"\\nFrequency Table for {var}:\")\n",
    "    print(survey_main[var].value_counts(dropna=False))\n",
    "\n",
    "# Generate Pivot Tables for All Pairs of Categorical Variables\n",
    "from itertools import combinations\n",
    "\n",
    "combos = list(combinations(categorical_vars, 2))\n",
    "for var1, var2 in combos:\n",
    "    print(f\"\\nPivot Table for {var1} vs {var2}:\")\n",
    "    pivot_table = pd.crosstab(survey_main[var1], survey_main[var2])\n",
    "    latex_table = pivot_table.to_latex(index=True, caption=f\"Pivot Table for {var1} vs {var2}\", label=f\"tab:{var1}_{var2}\")\n",
    "    print(latex_table)\n",
    "\n",
    "# Visualization Example: Gender Distribution\n",
    "plt.figure(figsize=(8,5))\n",
    "sns.countplot(data=survey_main, x=\"gender\", palette=\"Set2\")\n",
    "plt.title(\"Gender Distribution\")\n",
    "plt.xlabel(\"Gender\")\n",
    "plt.ylabel(\"Count\")\n",
    "plt.show()"
   ]
  }
 ],
 "metadata": {
  "kernelspec": {
   "display_name": "Python 3 (ipykernel)",
   "language": "python",
   "name": "python3"
  },
  "language_info": {
   "codemirror_mode": {
    "name": "ipython",
    "version": 3
   },
   "file_extension": ".py",
   "mimetype": "text/x-python",
   "name": "python",
   "nbconvert_exporter": "python",
   "pygments_lexer": "ipython3",
   "version": "3.13.2"
  }
 },
 "nbformat": 4,
 "nbformat_minor": 5
}
